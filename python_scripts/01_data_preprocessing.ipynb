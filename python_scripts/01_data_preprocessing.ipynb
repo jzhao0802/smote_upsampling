{
 "cells": [
  {
   "cell_type": "markdown",
   "metadata": {},
   "source": [
    "This script loads in the freqs and date diff variables then does the following:\n",
    "- calculates the lookback length for each patient in days in both random neg and pos sample\n",
    "- adds the lookback days to the pos table and random neg table\n",
    "- deletes cols we don't need from both tables\n",
    "- merges the two tables on the patient id\n",
    "- then saves the positive patients as a csv without the label and patient id\n",
    "- and saves the lookback of the negatives as a single column"
   ]
  },
  {
   "cell_type": "code",
   "execution_count": 1,
   "metadata": {
    "collapsed": true
   },
   "outputs": [],
   "source": [
    "import pandas as pd"
   ]
  },
  {
   "cell_type": "code",
   "execution_count": 4,
   "metadata": {
    "collapsed": true
   },
   "outputs": [],
   "source": [
    "date_diffs = pd.read_csv(\"data/date_diffs.csv\", parse_dates=[\"index_date\", \"lookback_date\"])\n",
    "neg_lookback_days = (date_diffs.index_date - date_diffs.lookback_date).astype('timedelta64[D]') \n",
    "date_diffs.insert(1, \"LOOKBACK\", neg_lookback_days)\n",
    "date_diffs.drop([\"index_date\", \"lookback_date\"], axis=1, inplace=True)\n",
    "date_diffs.to_csv(\"data/scoring_lookback.csv\", index=None)"
   ]
  },
  {
   "cell_type": "code",
   "execution_count": 2,
   "metadata": {
    "collapsed": true
   },
   "outputs": [],
   "source": [
    "pos_train = pd.read_csv(\"data/pos_train.csv\", parse_dates=[\"index_date\", \"lookback_date\"])\n",
    "lookback_days = (pos_train.index_date - pos_train.lookback_date).astype('timedelta64[D]') \n",
    "pos_train.insert(1, \"LOOKBACK\", lookback_days)\n",
    "pos_train.drop([\"test_patient_id\", \"index_date\", \"lookback_date\", \"PATIENT_ID\", \"label\"], axis=1, inplace=True)\n",
    "pos_train.to_csv(\"data/pos_train_data.csv\", index=None)"
   ]
  },
  {
   "cell_type": "code",
   "execution_count": 3,
   "metadata": {
    "collapsed": true
   },
   "outputs": [],
   "source": [
    "pos_test = pd.read_csv(\"data/pos_test.csv\", parse_dates=[\"index_date\", \"lookback_date\"])\n",
    "lookback_days = (pos_test.index_date - pos_test.lookback_date).astype('timedelta64[D]') \n",
    "pos_test.insert(1, \"LOOKBACK\", lookback_days)\n",
    "pos_test.drop([\"test_patient_id\", \"index_date\", \"lookback_date\", \"PATIENT_ID\", \"label\"], axis=1, inplace=True)\n",
    "pos_test.to_csv(\"data/pos_test_data.csv\", index=None)"
   ]
  }
 ],
 "metadata": {
  "kernelspec": {
   "display_name": "Python 3",
   "language": "python",
   "name": "python3"
  },
  "language_info": {
   "codemirror_mode": {
    "name": "ipython",
    "version": 3
   },
   "file_extension": ".py",
   "mimetype": "text/x-python",
   "name": "python",
   "nbconvert_exporter": "python",
   "pygments_lexer": "ipython3",
   "version": "3.4.5"
  }
 },
 "nbformat": 4,
 "nbformat_minor": 2
}
