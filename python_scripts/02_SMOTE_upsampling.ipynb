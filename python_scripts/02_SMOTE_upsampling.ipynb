{
 "cells": [
  {
   "cell_type": "markdown",
   "metadata": {},
   "source": [
    "## SMOTE upsampling\n",
    "\n",
    "This is a set of functions that facilitates the upsampling of the minority class with missing values using SMOTE. The ultimate goal of upsampling here is two-fold:\n",
    "- decrease the class imbalance for better classifier performance\n",
    "- approximate the lookback length distribution of the positives to the scoring \n",
    "\n",
    "The function requires two inputs:\n",
    "- a data frame with the positive matrix\n",
    "- a column with a sufficiently large sample of scoring lookback lengths\n",
    "\n"
   ]
  },
  {
   "cell_type": "code",
   "execution_count": 1,
   "metadata": {},
   "outputs": [
    {
     "name": "stdout",
     "output_type": "stream",
     "text": [
      "F:\\Daniel\\lookback_matching\n"
     ]
    }
   ],
   "source": [
    "import pandas as pd\n",
    "import numpy as np\n",
    "import scipy as sp\n",
    "from sklearn.preprocessing import StandardScaler\n",
    "from sklearn.neighbors import NearestNeighbors\n",
    "from scipy.spatial.distance import squareform, pdist\n",
    "%matplotlib inline\n",
    "%cd ../"
   ]
  },
  {
   "cell_type": "markdown",
   "metadata": {},
   "source": [
    "## Functions to find nearest neighbours"
   ]
  },
  {
   "cell_type": "code",
   "execution_count": 2,
   "metadata": {
    "collapsed": true
   },
   "outputs": [],
   "source": [
    "def get_full_data(df):\n",
    "    \"\"\"\n",
    "    Extracts full columns and returns them standardised to zero\n",
    "    mean and unit variance.\n",
    "    \"\"\"\n",
    "    \n",
    "    full_cols = df.columns[pd.isnull(df).sum() == 0]\n",
    "    full_df = df[full_cols]\n",
    "    ss = StandardScaler()\n",
    "    return ss.fit_transform(full_df.values)\n",
    "\n",
    "\n",
    "def NN_scikit_missing(df, nn_k=5, metric='cityblock', verbose=True):\n",
    "    \"\"\"\n",
    "    This function takes in a dataframe (n x p) and for each\n",
    "    sample finds its nn_k nearest neighbours. Importantly\n",
    "    however, only full columns are used for the distance \n",
    "    calculation. The data is standardised before NN. By \n",
    "    default the algorithm uses Manhattan distance (dist_p=1),\n",
    "    but this can be changed to Euclidean (dist_p=2) or any \n",
    "    other values. \n",
    "    \n",
    "    Scikit-learn decides automatically (based on the data\n",
    "    size) which algorithm to use for NN search (brute force,\n",
    "    KDtree, or BallTree).\n",
    "    \n",
    "    Ultimately the function returns a (n x nn_k). \n",
    "    \"\"\"\n",
    "    \n",
    "    # equate distance metric to p-distance exponent \n",
    "    if metric == \"cityblock\":\n",
    "        dist_p = 1\n",
    "    else:\n",
    "        dist_p = 2\n",
    "        \n",
    "    X = get_full_data(df)\n",
    "    n, _ = X.shape\n",
    "    \n",
    "    # find nearest neighbours\n",
    "    neigh = NearestNeighbors(algorithm='auto', p=dist_p, n_jobs=-1)\n",
    "    neigh.fit(X)\n",
    "    \n",
    "    to_return = np.zeros((n, nn_k))\n",
    "    for i in range(n):\n",
    "        if verbose and i % 25 == 0:\n",
    "            print(\"Finding nearest neighbour of sample %d/%d\" % \n",
    "                  (i, n))\n",
    "        \n",
    "        # find closest neighbours\n",
    "        nns = neigh.kneighbors(X[i,:].reshape(1,-1), nn_k+1, \n",
    "                               return_distance=False)\n",
    "        # closest sample by default is the sample itself\n",
    "        to_return[i, :] = nns.ravel()[1:]\n",
    "    \n",
    "    return to_return\n",
    "\n",
    "\n",
    "def NN_scipy_missing(df, nn_k=5, metric='cityblock'):\n",
    "    \"\"\"\n",
    "    This function takes in a dataframe (n x p) and for each\n",
    "    sample finds its nn_k nearest neighbours. Importantly\n",
    "    however, only full columns are used for the distance \n",
    "    calculation. The data is standardised before NN. By \n",
    "    default the algorithm uses Manhattan distance (dist_p=1),\n",
    "    but this can be changed to Euclidean (dist_p=2) or any \n",
    "    other values. \n",
    "    \n",
    "    Unlike NN_scikit_missing, this function uses scipy and \n",
    "    can be faster for small number of positives. Furthermore,\n",
    "    this supports a lot of famous distance metrics. By default\n",
    "    we use the Manhattan distance which is called cityblock \n",
    "    here. Other options include:\n",
    "    ‘braycurtis’, ‘canberra’, ‘chebyshev’, ‘cityblock’, \n",
    "    ‘correlation’, ‘cosine’, ‘dice’, ‘euclidean’, ‘hamming’,\n",
    "    ‘jaccard’, ‘kulsinski’, ‘mahalanobis’, ‘matching’, \n",
    "    ‘minkowski’, ‘rogerstanimoto’, ‘russellrao’, ‘seuclidean’,\n",
    "    ‘sokalmichener’, ‘sokalsneath’, ‘sqeuclidean’, ‘yule’.\n",
    "    \n",
    "    Ultimately the function returns a (n x nn_k). \n",
    "    \"\"\"\n",
    "    \n",
    "    X = get_full_data(df)\n",
    "    d = squareform(pdist(X, 'cityblock'))\n",
    "    return d.argsort()[:, 1:nn_k+1]"
   ]
  },
  {
   "cell_type": "markdown",
   "metadata": {},
   "source": [
    "## SMOTE functions"
   ]
  },
  {
   "cell_type": "code",
   "execution_count": 3,
   "metadata": {
    "collapsed": true
   },
   "outputs": [],
   "source": [
    "def SMOTE_missing(df, nns, upsample=3):\n",
    "    \"\"\"\n",
    "    This function takes in a dataframe (n x p) and a \n",
    "    nearest neighbour matrix (n x nn_k) as returned by\n",
    "    either NN_scipy_missing or NN_scikit_missing, which\n",
    "    for each sample holds the nn_k nearest neighs.\n",
    "    \n",
    "    When this functuon generates new samples it uses the \n",
    "    full sample vector. So if the closest neighbour of \n",
    "    sample i has missing values, those will be used for\n",
    "    creating a new synthetic data point. The non-missing\n",
    "    values will be multiplied by a random number like in\n",
    "    the default SMOTE.\n",
    "    \n",
    "    The upsample param sets the number of new synthetic \n",
    "    positives we want to generate for each positive sample.\n",
    "    Note, this is done multiple times while we are \n",
    "    approximating the two distributions, therefore it should\n",
    "    be kept fairly small, i.e. less than 5.\n",
    "    \"\"\"\n",
    "    \n",
    "    # generate row indices for the upsampling so we can\n",
    "    # subtract samples in matrix form\n",
    "    n, p = df.shape\n",
    "    row_ix = []\n",
    "    row_ix += [[i] * upsample for i in range(n)]\n",
    "    row_ix = np.array(row_ix).ravel()\n",
    "    \n",
    "    \n",
    "    # use the number of samples we want upsample\n",
    "    if upsample > nns.shape[1]:\n",
    "        raise ValueError(\"upsample cannot be larger than 5.\")\n",
    "    nns = nns[:, :upsample].ravel()\n",
    "    \n",
    "    # SMOTE: take the difference between each sample and its \n",
    "    # nearest neighbours and multiply this diff vector by a \n",
    "    # random number on the range of [0, 1]\n",
    "    original_samples = df.iloc[row_ix, :].values\n",
    "    nearest_samples = df.iloc[nns,:].values\n",
    "    diff_matrix =   nearest_samples - original_samples\n",
    "    random_weights = np.random.rand(n * upsample)\n",
    "    random_diff = diff_matrix * random_weights[:, np.newaxis]\n",
    "    new_samples = original_samples + random_diff\n",
    "    return pd.DataFrame(new_samples, columns=df.columns)\n",
    "\n",
    "\n",
    "def hack_for_binary_flags(df, cols, thresh=0.5):\n",
    "    \"\"\"\n",
    "    We don't have a good solution for sythetic categorical vars.\n",
    "    This hacky solution will turn binary flag columns in a \n",
    "    sythetic dataset into zeros and ones. \n",
    "    \"\"\"\n",
    "    binary_cols = df[cols].copy(deep=True)\n",
    "    binary_cols[binary_cols >= thresh] = 1\n",
    "    binary_cols[binary_cols < thresh] = 0\n",
    "    df.update(binary_cols)\n",
    "    return df"
   ]
  },
  {
   "cell_type": "markdown",
   "metadata": {},
   "source": [
    "## Function to approximate two lookback distributions"
   ]
  },
  {
   "cell_type": "code",
   "execution_count": 4,
   "metadata": {
    "collapsed": true
   },
   "outputs": [],
   "source": [
    "def approximate_lookbacks(pos_real, pos_smote, neg, bin_width=30):\n",
    "    \"\"\"\n",
    "    Given three lists of lookbacks (in days), this function will\n",
    "    define the positive lookback as {pos_real U pos_smote}, then\n",
    "    bin both neg and the pos lookback lists to common bins. See\n",
    "    bin_width (by default we bin days to months). \n",
    "    \n",
    "    If there are months where we have more synthetic data (as\n",
    "    density) we discard samples until that's not the case. \n",
    "    \n",
    "    The lookback of the positives is not touched, we only\n",
    "    discard smote positive samples to approximate the \n",
    "    lookback of the \n",
    "    \n",
    "    pos_real: lookback of the positives\n",
    "    pos_smote: lookback of the synthetic positives\n",
    "    neg: lookback of the negatives\n",
    "    bin_width: number of days to use for binning\n",
    "    \"\"\"\n",
    "    # merge pos_real and pos_smote\n",
    "    pos = list(pos_real) + list(pos_smote)\n",
    "    \n",
    "    # record length of lists\n",
    "    pos_real_n = len(list(pos_real))\n",
    "    pos_n = len(list(pos))\n",
    "    neg_n = len(list(neg))\n",
    "    \n",
    "    # find the min and max of the real and synthetic lookbacks\n",
    "    min_d = np.min([np.min(pos), np.min(neg)])\n",
    "    max_d = np.max([np.max(pos), np.max(neg)])\n",
    "\n",
    "    # define bins for histogram, by default we use months\n",
    "    bins = np.arange(min_d, max_d, bin_width)\n",
    "\n",
    "    # bin lookback days into months\n",
    "    pos_m = np.digitize(pos, bins)\n",
    "    neg_m = np.digitize(neg, bins)\n",
    "\n",
    "    # these will help to keep track of all the sythetic samples \n",
    "    # we need to discard\n",
    "    pos_ix = np.arange(pos_n)\n",
    "    to_delete = []\n",
    "    to_delete_n_old = 0\n",
    "\n",
    "    # get histogram of lookback in months\n",
    "    pos_h = np.bincount(pos_m, minlength=bins.size + 1)/pos_n\n",
    "    neg_h = np.bincount(neg_m, minlength=bins.size + 1)/neg_n\n",
    "\n",
    "    # subtract real histogram from synthetic\n",
    "    h_diff = pos_h - neg_h\n",
    "\n",
    "    # until we have more frequent months in sythetic data\n",
    "    while np.any(h_diff > 0):\n",
    "        # bins that are higher in smote than real\n",
    "        pos_higher_ix = np.where(h_diff > 0)[0]\n",
    "        for bin_ix in pos_higher_ix:\n",
    "            # samples that are in the examined bin\n",
    "            ix_in_bin = np.where(pos_m == bin_ix)[0]\n",
    "            \n",
    "            # check if we have smote samples in this bin\n",
    "            if np.any(pos_ix[ix_in_bin] >= pos_real_n):\n",
    "                # use only the smote samples\n",
    "                ix_in_bin = ix_in_bin[np.where(pos_ix[ix_in_bin] >= pos_real_n)[0]]\n",
    "                # choose one randomly \n",
    "                ix_to_delete = np.random.choice(ix_in_bin)\n",
    "                # add it to output vector\n",
    "                to_delete.append(pos_ix[ix_to_delete])\n",
    "                \n",
    "                # delete it from both pos_m and pos_ix to update the distribution\n",
    "                pos_m = np.delete(pos_m, ix_to_delete)\n",
    "                pos_ix = np.delete(pos_ix, ix_to_delete)\n",
    "                # update histogram and hist diff\n",
    "                pos_h = np.bincount(pos_m, minlength=bins.size + 1)/pos_n\n",
    "                h_diff = pos_h - neg_h\n",
    "\n",
    "        # check if are we still making progress, if not, stop\n",
    "        if len(to_delete) == to_delete_n_old:\n",
    "            break\n",
    "        to_delete_n_old = len(to_delete)\n",
    "    \n",
    "    # subtract the indecies of the real positives from the list\n",
    "    to_delete = np.array(to_delete) - pos_real_n\n",
    "    return to_delete"
   ]
  },
  {
   "cell_type": "markdown",
   "metadata": {},
   "source": [
    "## Main function of the pipeline"
   ]
  },
  {
   "cell_type": "code",
   "execution_count": 5,
   "metadata": {
    "collapsed": true
   },
   "outputs": [],
   "source": [
    "def SMOTE_upsampling(pos, scoring_lookback, pos_lookback_col, \n",
    "                     pos_binary_cols, upsample=3, metric='cityblock',  \n",
    "                     bin_width=30, ks_threshold=0.05, max_iter=50, \n",
    "                     nn_algo=\"scipy\", verbose=True):\n",
    "    \"\"\"\n",
    "    This function takes in a dataframe of positive samples\n",
    "    performs SMOTE on them, while also handling missing \n",
    "    data, see docsting of SMOTE_missing.\n",
    "    \n",
    "    For nearest neightbour calculation the metric param sets\n",
    "    the distance metric to use. Have a look at the docstring\n",
    "    of NN_scipy_missing for all the available options. If \n",
    "    you have more than 5000 positives, try changing the \n",
    "    nn_algo to \"scikit\".\n",
    "    \n",
    "    Then it merges the synthetic positives with the real\n",
    "    positives. The lookback lengths are presumed to be in\n",
    "    days. These are then binned to months by default. This\n",
    "    can be changed with the bin_width param.\n",
    "    \n",
    "    Then it selectively throws away certain synthetic \n",
    "    positives to approximate the distribution of the \n",
    "    lookbacks of positives to the lookbacks found in \n",
    "    scoring_lookback vector. \n",
    "    \n",
    "    ks_threshold is the p-value below which we reject \n",
    "    the null hypothesis that the two distributions are from\n",
    "    the same distribution. Note, here we want the two dist to \n",
    "    in fact be similar, so a p-value higher than this threshold\n",
    "    is desirable. The higher, the more match the two dists. \n",
    "    \n",
    "    max_iter is another way to control how long the algo is\n",
    "    tryin to match the two distributions. Each iteration \n",
    "    consists of a new smote upsampling and matching round,\n",
    "    where we selectively discard some sythetic positives.\n",
    "    \n",
    "    The function returns the new, sythetic positive samples.\n",
    "    \"\"\"\n",
    "    \n",
    "    # get nearest neighbours\n",
    "    if nn_algo == \"scipy\":\n",
    "        nns = NN_scipy_missing(pos, nn_k=5, metric=metric)\n",
    "    else:\n",
    "        nns = NN_scikit_missing(pos, nn_k=5, metric=metric,\n",
    "                                verbose=verbose)\n",
    "    \n",
    "    # extract lookback vectors\n",
    "    pos_lookback = pos[pos_lookback_col].values\n",
    "    scoring_lookback = scoring_lookback.values.ravel()\n",
    "    \n",
    "    iter_count = 0\n",
    "    while iter_count < max_iter:\n",
    "        print(iter_count)\n",
    "        # run SMOTE to get new synthetic positives\n",
    "        pos_smote_df = SMOTE_missing(pos, nns, upsample)\n",
    "        \n",
    "        # deal with binary flag variables\n",
    "        pos_smote_df = hack_for_binary_flags(pos_smote_df, pos_binary_cols)\n",
    "    \n",
    "        # append new sythetic positves to existing ones\n",
    "        # and define smote lookback vector\n",
    "        if 'pos_smote_df_all' in locals():\n",
    "            pos_smote_df_all = pos_smote_df_all.append(pos_smote_df, \n",
    "                                                       ignore_index=True)       \n",
    "        else:\n",
    "            pos_smote_df_all = pos_smote_df\n",
    "        pos_smote_lookback = pos_smote_df_all[pos_lookback_col]\n",
    "        \n",
    "        # find out which smote pos we need to delete to make the\n",
    "        # pos and scoring lookback dist more similar\n",
    "        to_delete = approximate_lookbacks(pos_lookback, pos_smote_lookback,\n",
    "                                          scoring_lookback, bin_width)\n",
    "\n",
    "        # delete rows from synthetic positives we don't need\n",
    "        pos_smote_df_all.drop(to_delete, inplace=True)\n",
    "        \n",
    "        # merge real and synthetic pos lookbacks for testing\n",
    "        pos_lookback_merged = (list(pos_smote_df_all[pos_lookback_col]) +\n",
    "                               list(pos[pos_lookback_col]))\n",
    "        \n",
    "        # compare the two distributions\n",
    "        p_val = sp.stats.ks_2samp(pos_lookback_merged, scoring_lookback)[1]\n",
    "        if p_val > ks_threshold:\n",
    "            break\n",
    "        iter_count += 1\n",
    "        \n",
    "    return pos_smote_df_all"
   ]
  },
  {
   "cell_type": "markdown",
   "metadata": {},
   "source": [
    "## Example use - SB train positives\n",
    "\n",
    "We'll use the positives of Strongbridge and the lookback of the negatives to demonstrate the pipeline. We split the positives to 1000 and 553. The former is for training the latter is testing. We upsample both independently and will make mlR datasets from them in R later."
   ]
  },
  {
   "cell_type": "code",
   "execution_count": 6,
   "metadata": {
    "collapsed": true
   },
   "outputs": [],
   "source": [
    "pos = pd.read_csv(\"data/pos_train_data.csv\")\n",
    "scoring_lookback = pd.read_csv(\"data/scoring_lookback.csv\")"
   ]
  },
  {
   "cell_type": "code",
   "execution_count": 7,
   "metadata": {
    "collapsed": true
   },
   "outputs": [
    {
     "name": "stdout",
     "output_type": "stream",
     "text": [
      "0\n",
      "1\n",
      "2\n",
      "3\n",
      "4\n",
      "5\n",
      "6\n",
      "7\n",
      "8\n",
      "9\n",
      "10\n",
      "11\n",
      "12\n",
      "13\n",
      "14\n",
      "15\n",
      "16\n",
      "17\n",
      "18\n",
      "19\n",
      "20\n",
      "21\n",
      "22\n",
      "23\n",
      "24\n",
      "25\n",
      "26\n",
      "27\n",
      "28\n",
      "29\n",
      "30\n",
      "31\n",
      "32\n",
      "33\n",
      "34\n",
      "35\n",
      "36\n",
      "37\n",
      "38\n",
      "39\n"
     ]
    }
   ],
   "source": [
    "pos_smote = SMOTE_upsampling(pos, scoring_lookback, \"LOOKBACK\", [\"GENDER\"], max_iter=40)"
   ]
  },
  {
   "cell_type": "code",
   "execution_count": 8,
   "metadata": {},
   "outputs": [
    {
     "data": {
      "image/png": "[encoded data removed]",
      "text/plain": [
       "<matplotlib.figure.Figure at 0x54d1160>"
      ]
     },
     "metadata": {},
     "output_type": "display_data"
    }
   ],
   "source": [
    "def plot_lookbacks(l1, l2, label1, label2):\n",
    "    to_plot = pd.concat([l1, l2], axis=1)\n",
    "    to_plot.columns = [label1, label2]\n",
    "    to_plot.plot(kind=\"kde\")\n",
    "plot_lookbacks(pos.LOOKBACK, scoring_lookback, \"pos\", \"scoring\")"
   ]
  },
  {
   "cell_type": "code",
   "execution_count": 9,
   "metadata": {},
   "outputs": [
    {
     "data": {
      "text/plain": [
       "(7928, 1026)"
      ]
     },
     "execution_count": 9,
     "metadata": {},
     "output_type": "execute_result"
    }
   ],
   "source": [
    "pos_smote.shape"
   ]
  },
  {
   "cell_type": "code",
   "execution_count": 10,
   "metadata": {
    "scrolled": true
   },
   "outputs": [
    {
     "data": {
      "image/png": "[encoded data removed]",
      "text/plain": [
       "<matplotlib.figure.Figure at 0x54d14e0>"
      ]
     },
     "metadata": {},
     "output_type": "display_data"
    }
   ],
   "source": [
    "pos_lookbacks = pd.concat([pos.LOOKBACK, pos_smote.LOOKBACK], ignore_index=True)\n",
    "plot_lookbacks(pos_lookbacks, scoring_lookback, \"pos_smote\", \"scoring\")"
   ]
  },
  {
   "cell_type": "markdown",
   "metadata": {},
   "source": [
    "Cool looks like this is working. Let's merge pos and pos_smote and subsample it to 1000, which we'll use as training, even though the KS test's p-value is still very small. Save the subsampled and full too."
   ]
  },
  {
   "cell_type": "code",
   "execution_count": 11,
   "metadata": {
    "scrolled": true
   },
   "outputs": [
    {
     "data": {
      "image/png": "[encoded data removed]",
      "text/plain": [
       "<matplotlib.figure.Figure at 0x54bc8d0>"
      ]
     },
     "metadata": {},
     "output_type": "display_data"
    }
   ],
   "source": [
    "pos_all = pd.concat([pos, pos_smote], ignore_index=True)\n",
    "pos_1000 = pos_all.sample(pos.shape[0])\n",
    "plot_lookbacks(pos_1000.LOOKBACK, scoring_lookback, \"pos_smote\", \"scoring\")"
   ]
  },
  {
   "cell_type": "code",
   "execution_count": 13,
   "metadata": {
    "collapsed": true
   },
   "outputs": [],
   "source": [
    "pos_1000.to_csv(\"data/pos_train_smote_1000.csv\", index=None)\n",
    "pos_all.to_csv(\"data/pos_train_smote_all.csv\", index=None)"
   ]
  },
  {
   "cell_type": "markdown",
   "metadata": {},
   "source": [
    "## Now let's do the same for the test positives"
   ]
  },
  {
   "cell_type": "code",
   "execution_count": 14,
   "metadata": {
    "collapsed": true
   },
   "outputs": [],
   "source": [
    "pos = pd.read_csv(\"data/pos_test_data.csv\")\n",
    "scoring_lookback = pd.read_csv(\"data/scoring_lookback.csv\")"
   ]
  },
  {
   "cell_type": "code",
   "execution_count": 15,
   "metadata": {
    "collapsed": true
   },
   "outputs": [
    {
     "name": "stdout",
     "output_type": "stream",
     "text": [
      "0\n",
      "1\n",
      "2\n",
      "3\n",
      "4\n",
      "5\n",
      "6\n",
      "7\n",
      "8\n",
      "9\n",
      "10\n",
      "11\n",
      "12\n",
      "13\n",
      "14\n",
      "15\n",
      "16\n",
      "17\n",
      "18\n",
      "19\n",
      "20\n",
      "21\n",
      "22\n",
      "23\n",
      "24\n",
      "25\n",
      "26\n",
      "27\n",
      "28\n",
      "29\n",
      "30\n",
      "31\n",
      "32\n",
      "33\n",
      "34\n",
      "35\n",
      "36\n",
      "37\n",
      "38\n",
      "39\n"
     ]
    }
   ],
   "source": [
    "pos_smote = SMOTE_upsampling(pos, scoring_lookback, \"LOOKBACK\", [\"GENDER\"], max_iter=40)"
   ]
  },
  {
   "cell_type": "code",
   "execution_count": 16,
   "metadata": {},
   "outputs": [
    {
     "data": {
      "text/plain": [
       "(5292, 1026)"
      ]
     },
     "execution_count": 16,
     "metadata": {},
     "output_type": "execute_result"
    }
   ],
   "source": [
    "pos_smote.shape"
   ]
  },
  {
   "cell_type": "code",
   "execution_count": 17,
   "metadata": {},
   "outputs": [
    {
     "data": {
      "image/png": "[encoded data removed]",
      "text/plain": [
       "<matplotlib.figure.Figure at 0xc8fd898>"
      ]
     },
     "metadata": {},
     "output_type": "display_data"
    }
   ],
   "source": [
    "def plot_lookbacks(l1, l2, label1, label2):\n",
    "    to_plot = pd.concat([l1, l2], axis=1)\n",
    "    to_plot.columns = [label1, label2]\n",
    "    to_plot.plot(kind=\"kde\")\n",
    "pos_lookbacks = pd.concat([pos.LOOKBACK, pos_smote.LOOKBACK], ignore_index=True)\n",
    "plot_lookbacks(pos_lookbacks, scoring_lookback, \"pos_smote\", \"scoring\")"
   ]
  },
  {
   "cell_type": "markdown",
   "metadata": {},
   "source": [
    "Cool looks like this is working. Let's merge pos and pos_smote and subsample it to 1000, which we'll use as training, even though the KS test's p-value is still very small. Save the subsampled and full too."
   ]
  },
  {
   "cell_type": "code",
   "execution_count": 22,
   "metadata": {},
   "outputs": [
    {
     "data": {
      "image/png": "[encoded data removed]",
      "text/plain": [
       "<matplotlib.figure.Figure at 0xd7ffd30>"
      ]
     },
     "metadata": {},
     "output_type": "display_data"
    }
   ],
   "source": [
    "pos_all = pd.concat([pos, pos_smote], ignore_index=True)\n",
    "pos_500 = pos_all.sample(pos.shape[0])\n",
    "plot_lookbacks(pos_500.LOOKBACK, scoring_lookback, \"pos_smote\", \"scoring\")"
   ]
  },
  {
   "cell_type": "code",
   "execution_count": 23,
   "metadata": {
    "collapsed": true
   },
   "outputs": [],
   "source": [
    "pos_500.to_csv(\"data/pos_test_smote_500.csv\", index=None)\n",
    "pos_all.to_csv(\"data/pos_test_smote_all.csv\", index=None)"
   ]
  },
  {
   "cell_type": "markdown",
   "metadata": {},
   "source": [
    "## Try random SMOTE\n",
    "\n",
    "To test the effect of SMOTE alone without the lookback matching we'll simply upsample the 1000 positives to 3000."
   ]
  },
  {
   "cell_type": "code",
   "execution_count": 24,
   "metadata": {
    "collapsed": true
   },
   "outputs": [],
   "source": [
    "pos = pd.read_csv(\"data/pos_train_data.csv\")\n",
    "# delete lookback col\n",
    "pos.drop(\"LOOKBACK\", axis=1, inplace=True)\n",
    "nns = NN_scipy_missing(pos, nn_k=5)\n",
    "pos_smote_df = SMOTE_missing(pos, nns, 2)\n",
    "pos_smote_df = hack_for_binary_flags(pos_smote_df, [\"GENDER\"])"
   ]
  },
  {
   "cell_type": "code",
   "execution_count": 25,
   "metadata": {
    "collapsed": true
   },
   "outputs": [],
   "source": [
    "pos_random_smote = pd.concat([pos, pos_smote_df])\n",
    "pos_random_smote.to_csv(\"data/pos_train_random_smote.csv\", index=None)"
   ]
  }
 ],
 "metadata": {
  "kernelspec": {
   "display_name": "Python 3",
   "language": "python",
   "name": "python3"
  },
  "language_info": {
   "codemirror_mode": {
    "name": "ipython",
    "version": 3
   },
   "file_extension": ".py",
   "mimetype": "text/x-python",
   "name": "python",
   "nbconvert_exporter": "python",
   "pygments_lexer": "ipython3",
   "version": "3.4.5"
  }
 },
 "nbformat": 4,
 "nbformat_minor": 2
}
