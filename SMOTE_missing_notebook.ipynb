{
 "cells": [
  {
   "cell_type": "markdown",
   "metadata": {},
   "source": [
    "## Research notebook\n",
    "This notebook develops the main ideas and parts of our SMOTE oversampling strategy. "
   ]
  },
  {
   "cell_type": "code",
   "execution_count": 32,
   "metadata": {
    "collapsed": true
   },
   "outputs": [],
   "source": [
    "import pandas as pd\n",
    "import numpy as np\n",
    "import scipy as sp\n",
    "from sklearn.preprocessing import StandardScaler\n",
    "from sklearn.neighbors import NearestNeighbors\n",
    "%matplotlib inline"
   ]
  },
  {
   "cell_type": "markdown",
   "metadata": {},
   "source": [
    "## Load in data \n",
    "\n",
    "Load in the positive dataset and the lookback vector of the negatives"
   ]
  },
  {
   "cell_type": "code",
   "execution_count": 3,
   "metadata": {
    "collapsed": false
   },
   "outputs": [],
   "source": [
    "pos = pd.read_csv(\"data/pos_data.csv\")\n",
    "neg_lookback = pd.read_csv(\"data/neg_lookback.csv\", header=None)"
   ]
  },
  {
   "cell_type": "markdown",
   "metadata": {},
   "source": [
    "## Define SMOTE that can handle missing values\n",
    "\n",
    "For an explanation see the doc-string of `SMOTE_missng`."
   ]
  },
  {
   "cell_type": "code",
   "execution_count": 94,
   "metadata": {
    "collapsed": false
   },
   "outputs": [],
   "source": [
    "def SMOTE_missing(df, upsample=2, p=1, verbose=True):\n",
    "    \"\"\"\n",
    "    This function takes in a dataframe, finds its columns\n",
    "    which are full, i.e. without missing values and \n",
    "    standardises them. Then it uses these full columns\n",
    "    to find the nearest neighbours, like the original SMOTE.\n",
    "    \n",
    "    However, when it generates new samples it uses the \n",
    "    full sample vector. So if the closest neighbour of \n",
    "    sample i has missing values, those will be used for\n",
    "    creating a new synthetic data point. The non-missing\n",
    "    values will be multiplied by a random number like in\n",
    "    the default SMOTE.\n",
    "    \n",
    "    The upsample param sets the number of new synthetic \n",
    "    positives we want to generate for each positive sample.\n",
    "    \n",
    "    The p param sets the power of the minkowski distace,\n",
    "    where p = 1 is Manhattan, p=2 is Euclidean distance.\n",
    "    \"\"\"\n",
    "    \n",
    "    full_cols = df.columns[pd.isnull(df).sum() == 0]\n",
    "    full_df = df[full_cols]\n",
    "    \n",
    "    # standardise the full columns - this is for NN calculation\n",
    "    ss = StandardScaler()\n",
    "    X = ss.fit_transform(full_df.values)\n",
    "    n, _ = X.shape\n",
    "    \n",
    "    # find nearest neighbours\n",
    "    neigh = NearestNeighbors(algorithm='auto', p=p, n_jobs=-1)\n",
    "    neigh.fit(X)\n",
    "\n",
    "    # for each positive sample find the k nearest neighbours, \n",
    "    # where k = upsample, i.e. the number of new synthetic \n",
    "    # samples we want to generate for each positive sample\n",
    "    nearest_neighs = []\n",
    "    row_ix = []\n",
    "    for i in range(n):\n",
    "        if verbose and i % 25 == 0:\n",
    "            print(\"Upsampling positive sample #\", i)\n",
    "        # closest sample by default is the sample itself\n",
    "        nns = neigh.kneighbors(X[i,:].reshape(1,-1), upsample+1, \n",
    "                               return_distance=False)\n",
    "        nearest_neighs += list(nns.ravel())[1:]\n",
    "        row_ix += [i] * upsample\n",
    "\n",
    "    # SMOTE: take the difference between each sample and its \n",
    "    # nearest neighbours and multiply this diff vector by a \n",
    "    # random number on the range of [0, 1]\n",
    "    original_samples = df.iloc[row_ix, :].values\n",
    "    nearest_samples = df.iloc[nearest_neighs,:].values\n",
    "    diff_matrix =   nearest_samples - original_samples\n",
    "    random_weights = np.random.rand(n * upsample)\n",
    "    random_diff = diff_matrix * random_weights[:, np.newaxis]\n",
    "    new_samples = original_samples + random_diff\n",
    "    return pd.DataFrame(new_samples, columns=df.columns)\n",
    "\n",
    "\n",
    "def hack_for_binary_flags(df, cols, thresh=0.5):\n",
    "    \"\"\"\n",
    "    We don't have a good solution for sythetic categorical vars.\n",
    "    This hacky solution will turn binary flag columns in a \n",
    "    sythetic dataset into zeros and ones. \n",
    "    \"\"\"\n",
    "    binary_cols = df[cols].copy(deep=True)\n",
    "    binary_cols[binary_cols >= thresh] = 1\n",
    "    binary_cols[binary_cols < thresh] = 0\n",
    "    df.update(binary_cols)\n",
    "    return df"
   ]
  },
  {
   "cell_type": "markdown",
   "metadata": {},
   "source": [
    "## Apply `SMOTE_missing` on a sample\n",
    "\n",
    "Then compare the lookback dist of the sample and the synthetic data"
   ]
  },
  {
   "cell_type": "code",
   "execution_count": 95,
   "metadata": {
    "collapsed": false,
    "scrolled": true
   },
   "outputs": [
    {
     "name": "stdout",
     "output_type": "stream",
     "text": [
      "Upsampling positive sample # 0\n",
      "Upsampling positive sample # 25\n",
      "Upsampling positive sample # 50\n",
      "Upsampling positive sample # 75\n"
     ]
    }
   ],
   "source": [
    "pos_sample = pos.iloc[0:100,:]\n",
    "pos_sample_SMOTE = SMOTE_missing(pos_sample, upsample=3)"
   ]
  },
  {
   "cell_type": "code",
   "execution_count": 87,
   "metadata": {
    "collapsed": false
   },
   "outputs": [
    {
     "data": {
      "text/html": [
       "<div>\n",
       "<table border=\"1\" class=\"dataframe\">\n",
       "  <thead>\n",
       "    <tr style=\"text-align: right;\">\n",
       "      <th></th>\n",
       "      <th>LOOKBACK</th>\n",
       "      <th>AGE</th>\n",
       "      <th>GENDER</th>\n",
       "      <th>D_7373_AVG_CLAIM_CNT</th>\n",
       "      <th>D_7803_AVG_CLAIM_CNT</th>\n",
       "      <th>D_7809_AVG_CLAIM_CNT</th>\n",
       "      <th>D_7840_AVG_CLAIM_CNT</th>\n",
       "      <th>D_7865_AVG_CLAIM_CNT</th>\n",
       "      <th>D_7931_AVG_CLAIM_CNT</th>\n",
       "      <th>D_4659_AVG_CLAIM_CNT</th>\n",
       "      <th>...</th>\n",
       "      <th>S_S83_LAST_EXP_</th>\n",
       "      <th>S_S02_LAST_EXP_</th>\n",
       "      <th>S_S42_LAST_EXP_</th>\n",
       "      <th>S_S30_LAST_EXP_</th>\n",
       "      <th>S_S12_LAST_EXP_</th>\n",
       "      <th>S_S29_LAST_EXP_</th>\n",
       "      <th>S_S57_LAST_EXP_</th>\n",
       "      <th>S_S14_LAST_EXP_</th>\n",
       "      <th>S_S59_LAST_EXP_</th>\n",
       "      <th>S_S11_LAST_EXP_</th>\n",
       "    </tr>\n",
       "  </thead>\n",
       "  <tbody>\n",
       "    <tr>\n",
       "      <th>0</th>\n",
       "      <td>833.784210</td>\n",
       "      <td>82.044971</td>\n",
       "      <td>1.0</td>\n",
       "      <td>0.0</td>\n",
       "      <td>0.0</td>\n",
       "      <td>0.0</td>\n",
       "      <td>0.0</td>\n",
       "      <td>0.0</td>\n",
       "      <td>0.0</td>\n",
       "      <td>0.457254</td>\n",
       "      <td>...</td>\n",
       "      <td>NaN</td>\n",
       "      <td>NaN</td>\n",
       "      <td>NaN</td>\n",
       "      <td>NaN</td>\n",
       "      <td>NaN</td>\n",
       "      <td>NaN</td>\n",
       "      <td>NaN</td>\n",
       "      <td>NaN</td>\n",
       "      <td>NaN</td>\n",
       "      <td>NaN</td>\n",
       "    </tr>\n",
       "    <tr>\n",
       "      <th>1</th>\n",
       "      <td>1203.447414</td>\n",
       "      <td>71.600143</td>\n",
       "      <td>0.0</td>\n",
       "      <td>0.0</td>\n",
       "      <td>0.0</td>\n",
       "      <td>0.0</td>\n",
       "      <td>0.0</td>\n",
       "      <td>0.0</td>\n",
       "      <td>0.0</td>\n",
       "      <td>0.150675</td>\n",
       "      <td>...</td>\n",
       "      <td>NaN</td>\n",
       "      <td>NaN</td>\n",
       "      <td>NaN</td>\n",
       "      <td>NaN</td>\n",
       "      <td>NaN</td>\n",
       "      <td>NaN</td>\n",
       "      <td>NaN</td>\n",
       "      <td>NaN</td>\n",
       "      <td>NaN</td>\n",
       "      <td>NaN</td>\n",
       "    </tr>\n",
       "    <tr>\n",
       "      <th>2</th>\n",
       "      <td>911.855457</td>\n",
       "      <td>73.913272</td>\n",
       "      <td>1.0</td>\n",
       "      <td>0.0</td>\n",
       "      <td>0.0</td>\n",
       "      <td>0.0</td>\n",
       "      <td>0.0</td>\n",
       "      <td>0.0</td>\n",
       "      <td>0.0</td>\n",
       "      <td>0.075236</td>\n",
       "      <td>...</td>\n",
       "      <td>NaN</td>\n",
       "      <td>NaN</td>\n",
       "      <td>NaN</td>\n",
       "      <td>NaN</td>\n",
       "      <td>NaN</td>\n",
       "      <td>NaN</td>\n",
       "      <td>NaN</td>\n",
       "      <td>NaN</td>\n",
       "      <td>NaN</td>\n",
       "      <td>NaN</td>\n",
       "    </tr>\n",
       "    <tr>\n",
       "      <th>3</th>\n",
       "      <td>1611.491095</td>\n",
       "      <td>56.066763</td>\n",
       "      <td>1.0</td>\n",
       "      <td>0.0</td>\n",
       "      <td>0.0</td>\n",
       "      <td>0.0</td>\n",
       "      <td>0.0</td>\n",
       "      <td>0.0</td>\n",
       "      <td>0.0</td>\n",
       "      <td>0.000000</td>\n",
       "      <td>...</td>\n",
       "      <td>NaN</td>\n",
       "      <td>NaN</td>\n",
       "      <td>NaN</td>\n",
       "      <td>NaN</td>\n",
       "      <td>NaN</td>\n",
       "      <td>NaN</td>\n",
       "      <td>NaN</td>\n",
       "      <td>NaN</td>\n",
       "      <td>NaN</td>\n",
       "      <td>NaN</td>\n",
       "    </tr>\n",
       "    <tr>\n",
       "      <th>4</th>\n",
       "      <td>1367.180425</td>\n",
       "      <td>59.396833</td>\n",
       "      <td>0.0</td>\n",
       "      <td>0.0</td>\n",
       "      <td>0.0</td>\n",
       "      <td>0.0</td>\n",
       "      <td>0.0</td>\n",
       "      <td>0.0</td>\n",
       "      <td>0.0</td>\n",
       "      <td>0.000000</td>\n",
       "      <td>...</td>\n",
       "      <td>NaN</td>\n",
       "      <td>NaN</td>\n",
       "      <td>NaN</td>\n",
       "      <td>NaN</td>\n",
       "      <td>NaN</td>\n",
       "      <td>NaN</td>\n",
       "      <td>NaN</td>\n",
       "      <td>NaN</td>\n",
       "      <td>NaN</td>\n",
       "      <td>NaN</td>\n",
       "    </tr>\n",
       "  </tbody>\n",
       "</table>\n",
       "<p>5 rows × 1026 columns</p>\n",
       "</div>"
      ],
      "text/plain": [
       "      LOOKBACK        AGE  GENDER  D_7373_AVG_CLAIM_CNT  D_7803_AVG_CLAIM_CNT  \\\n",
       "0   833.784210  82.044971     1.0                   0.0                   0.0   \n",
       "1  1203.447414  71.600143     0.0                   0.0                   0.0   \n",
       "2   911.855457  73.913272     1.0                   0.0                   0.0   \n",
       "3  1611.491095  56.066763     1.0                   0.0                   0.0   \n",
       "4  1367.180425  59.396833     0.0                   0.0                   0.0   \n",
       "\n",
       "   D_7809_AVG_CLAIM_CNT  D_7840_AVG_CLAIM_CNT  D_7865_AVG_CLAIM_CNT  \\\n",
       "0                   0.0                   0.0                   0.0   \n",
       "1                   0.0                   0.0                   0.0   \n",
       "2                   0.0                   0.0                   0.0   \n",
       "3                   0.0                   0.0                   0.0   \n",
       "4                   0.0                   0.0                   0.0   \n",
       "\n",
       "   D_7931_AVG_CLAIM_CNT  D_4659_AVG_CLAIM_CNT       ...         \\\n",
       "0                   0.0              0.457254       ...          \n",
       "1                   0.0              0.150675       ...          \n",
       "2                   0.0              0.075236       ...          \n",
       "3                   0.0              0.000000       ...          \n",
       "4                   0.0              0.000000       ...          \n",
       "\n",
       "   S_S83_LAST_EXP_  S_S02_LAST_EXP_  S_S42_LAST_EXP_  S_S30_LAST_EXP_  \\\n",
       "0              NaN              NaN              NaN              NaN   \n",
       "1              NaN              NaN              NaN              NaN   \n",
       "2              NaN              NaN              NaN              NaN   \n",
       "3              NaN              NaN              NaN              NaN   \n",
       "4              NaN              NaN              NaN              NaN   \n",
       "\n",
       "   S_S12_LAST_EXP_  S_S29_LAST_EXP_  S_S57_LAST_EXP_  S_S14_LAST_EXP_  \\\n",
       "0              NaN              NaN              NaN              NaN   \n",
       "1              NaN              NaN              NaN              NaN   \n",
       "2              NaN              NaN              NaN              NaN   \n",
       "3              NaN              NaN              NaN              NaN   \n",
       "4              NaN              NaN              NaN              NaN   \n",
       "\n",
       "   S_S59_LAST_EXP_  S_S11_LAST_EXP_  \n",
       "0              NaN              NaN  \n",
       "1              NaN              NaN  \n",
       "2              NaN              NaN  \n",
       "3              NaN              NaN  \n",
       "4              NaN              NaN  \n",
       "\n",
       "[5 rows x 1026 columns]"
      ]
     },
     "execution_count": 87,
     "metadata": {},
     "output_type": "execute_result"
    }
   ],
   "source": [
    "pos_sample_SMOTE = hack_for_binary_flags(pos_sample_SMOTE, [\"GENDER\"])\n",
    "pos_sample_SMOTE.head()"
   ]
  },
  {
   "cell_type": "code",
   "execution_count": 96,
   "metadata": {
    "collapsed": false
   },
   "outputs": [
    {
     "data": {
      "image/png": "[encoded data removed]",
      "text/plain": [
       "<matplotlib.figure.Figure at 0x973c784f60>"
      ]
     },
     "metadata": {},
     "output_type": "display_data"
    }
   ],
   "source": [
    "def plot_lookbacks(l1, l2, label1, label2):\n",
    "    to_plot = pd.concat([l1, l2], axis=1)\n",
    "    to_plot.columns = [label1, label2]\n",
    "    to_plot.plot(kind=\"kde\")\n",
    "plot_lookbacks(pos_sample.LOOKBACK, pos_sample_SMOTE.LOOKBACK, \"pos_sample\", \"pos_sample_SMOTE\")"
   ]
  },
  {
   "cell_type": "markdown",
   "metadata": {},
   "source": [
    "They are not from the same distribution as the KS test cannot be rejected."
   ]
  },
  {
   "cell_type": "code",
   "execution_count": 98,
   "metadata": {
    "collapsed": false
   },
   "outputs": [
    {
     "data": {
      "text/plain": [
       "Ks_2sampResult(statistic=0.20666666666666664, pvalue=0.002708491623291428)"
      ]
     },
     "execution_count": 98,
     "metadata": {},
     "output_type": "execute_result"
    }
   ],
   "source": [
    "real = pos_sample.LOOKBACK.values\n",
    "smote = pos_sample_SMOTE.LOOKBACK.values\n",
    "sp.stats.ks_2samp(real, smote)"
   ]
  },
  {
   "cell_type": "markdown",
   "metadata": {},
   "source": [
    "## Approximate the two lookback distributions\n",
    "\n",
    "Try to throw away indices from sythetic lookback so it looks more similar to the sample lookback distrinution"
   ]
  },
  {
   "cell_type": "code",
   "execution_count": 47,
   "metadata": {
    "collapsed": false
   },
   "outputs": [],
   "source": [
    "def approximate_lookbacks(pos_real, pos_smote, neg, bin_width=30):\n",
    "    \"\"\"\n",
    "    Given three lists of lookbacks (in days), this function will\n",
    "    define the positive lookback as {pos_real U pos_smote}, then\n",
    "    bin both neg and the pos lookback lists to common bins. See\n",
    "    bin_width (by default we bin days to months). \n",
    "    \n",
    "    If there are months where we have more synthetic data (as\n",
    "    density) we discard samples until that's not the case. \n",
    "    \n",
    "    The lookback of the positives is not touched, we only\n",
    "    discard smote positive samples to approximate the \n",
    "    lookback of the \n",
    "    \n",
    "    pos_real: lookback of the positives\n",
    "    pos_smote: lookback of the synthetic positives\n",
    "    neg: lookback of the negatives\n",
    "    bin_width: number of days to use for binning\n",
    "    \"\"\"\n",
    "    # merge pos_real and pos_smote\n",
    "    pos = list(pos_real) + list(pos_smote)\n",
    "    \n",
    "    # record length of lists\n",
    "    pos_real_n = len(list(pos_real))\n",
    "    pos_n = len(list(pos))\n",
    "    neg_n = len(list(neg))\n",
    "    \n",
    "    # find the min and max of the real and synthetic lookbacks\n",
    "    min_d = np.min([np.min(pos), np.min(neg)])\n",
    "    max_d = np.max([np.max(pos), np.max(neg)])\n",
    "\n",
    "    # define bins for histogram, by default we use months\n",
    "    bins = np.arange(min_d, max_d, bin_width)\n",
    "\n",
    "    # bin lookback days into months\n",
    "    pos_m = np.digitize(pos, bins)\n",
    "    neg_m = np.digitize(neg, bins)\n",
    "\n",
    "    # these will help to keep track of all the sythetic samples \n",
    "    # we need to discard\n",
    "    pos_ix = np.arange(pos_n)\n",
    "    to_delete = []\n",
    "    to_delete_n_old = 0\n",
    "\n",
    "    # get histogram of lookback in months\n",
    "    pos_h = np.bincount(pos_m, minlength=bins.size + 1)/pos_n\n",
    "    neg_h = np.bincount(neg_m, minlength=bins.size + 1)/neg_n\n",
    "\n",
    "    # subtract real histogram from synthetic\n",
    "    h_diff = pos_h - neg_h\n",
    "\n",
    "    # until we have more frequent months in sythetic data\n",
    "    while np.any(h_diff > 0):\n",
    "        # bins that are higher in smote than real\n",
    "        pos_higher_ix = np.where(h_diff > 0)[0]\n",
    "        for bin_ix in pos_higher_ix:\n",
    "            # samples that are in the examined bin\n",
    "            ix_in_bin = np.where(pos_m == bin_ix)[0]\n",
    "            \n",
    "            # check if we have smote samples in this bin\n",
    "            if np.any(pos_ix[ix_in_bin] >= pos_real_n):\n",
    "                # use only the smote samples\n",
    "                ix_in_bin = ix_in_bin[np.where(pos_ix[ix_in_bin] >= pos_real_n)[0]]\n",
    "                # choose one randomly \n",
    "                ix_to_delete = np.random.choice(ix_in_bin)\n",
    "                # add it to output vector\n",
    "                to_delete.append(pos_ix[ix_to_delete])\n",
    "                \n",
    "                # delete it from both pos_m and pos_ix to update the distribution\n",
    "                pos_m = np.delete(pos_m, ix_to_delete)\n",
    "                pos_ix = np.delete(pos_ix, ix_to_delete)\n",
    "                # update histogram and hist diff\n",
    "                pos_h = np.bincount(pos_m, minlength=bins.size + 1)/pos_n\n",
    "                h_diff = pos_h - neg_h\n",
    "\n",
    "        # check if are we still making progress, if not, stop\n",
    "        if len(to_delete) == to_delete_n_old:\n",
    "            break\n",
    "        to_delete_n_old = len(to_delete)\n",
    "\n",
    "    return to_delete"
   ]
  },
  {
   "cell_type": "markdown",
   "metadata": {},
   "source": [
    "Original distributions"
   ]
  },
  {
   "cell_type": "code",
   "execution_count": 65,
   "metadata": {
    "collapsed": false,
    "scrolled": true
   },
   "outputs": [
    {
     "data": {
      "image/png": "[encoded data removed]",
      "text/plain": [
       "<matplotlib.figure.Figure at 0x97370c5898>"
      ]
     },
     "metadata": {},
     "output_type": "display_data"
    }
   ],
   "source": [
    "plot_lookbacks(pos.LOOKBACK, neg_lookback, \"pos\", \"neg\")"
   ]
  },
  {
   "cell_type": "code",
   "execution_count": 92,
   "metadata": {
    "collapsed": false
   },
   "outputs": [
    {
     "data": {
      "text/plain": [
       "Ks_2sampResult(statistic=0.037990985189954925, pvalue=0.024002403631348895)"
      ]
     },
     "execution_count": 92,
     "metadata": {},
     "output_type": "execute_result"
    }
   ],
   "source": [
    "sp.stats.ks_2samp(neg_lookback.values.ravel(), pos.LOOKBACK)"
   ]
  },
  {
   "cell_type": "markdown",
   "metadata": {},
   "source": [
    "Try the `approximate_lookbacks` and see if smote samples are making the lookback distributions more similar"
   ]
  },
  {
   "cell_type": "code",
   "execution_count": 99,
   "metadata": {
    "collapsed": false
   },
   "outputs": [],
   "source": [
    "to_delete = approximate_lookbacks(pos.LOOKBACK, pos_sample_SMOTE.LOOKBACK, neg_lookback.values.ravel())\n",
    "pos_lookback = pd.concat([pos.LOOKBACK, pos_sample_SMOTE.LOOKBACK])\n",
    "pos_lookback.index = np.arange(pos_lookback.shape[0])\n",
    "pos_lookback.drop(to_delete, inplace=True)"
   ]
  },
  {
   "cell_type": "markdown",
   "metadata": {},
   "source": [
    "Updated after one round"
   ]
  },
  {
   "cell_type": "code",
   "execution_count": 100,
   "metadata": {
    "collapsed": false,
    "scrolled": false
   },
   "outputs": [
    {
     "data": {
      "image/png": "[encoded data removed]",
      "text/plain": [
       "<matplotlib.figure.Figure at 0x97359ca080>"
      ]
     },
     "metadata": {},
     "output_type": "display_data"
    }
   ],
   "source": [
    "plot_lookbacks(pos_lookback, neg_lookback, \"pos\", \"neg\")"
   ]
  },
  {
   "cell_type": "code",
   "execution_count": 101,
   "metadata": {
    "collapsed": false
   },
   "outputs": [
    {
     "data": {
      "text/plain": [
       "Ks_2sampResult(statistic=0.035435761025418899, pvalue=0.027612652939727589)"
      ]
     },
     "execution_count": 101,
     "metadata": {},
     "output_type": "execute_result"
    }
   ],
   "source": [
    "sp.stats.ks_2samp(neg_lookback.values.ravel(), pos_lookback)"
   ]
  }
 ],
 "metadata": {
  "kernelspec": {
   "display_name": "Python 3",
   "language": "python",
   "name": "python3"
  },
  "language_info": {
   "codemirror_mode": {
    "name": "ipython",
    "version": 3
   },
   "file_extension": ".py",
   "mimetype": "text/x-python",
   "name": "python",
   "nbconvert_exporter": "python",
   "pygments_lexer": "ipython3",
   "version": "3.6.0"
  }
 },
 "nbformat": 4,
 "nbformat_minor": 2
}
