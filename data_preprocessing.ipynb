{
 "cells": [
  {
   "cell_type": "markdown",
   "metadata": {},
   "source": [
    "This script loads in the freqs and date diff variables then does the following:\n",
    "- calculates the lookback length for each patient in days\n",
    "- adds the lookback days to the freq table\n",
    "- deletes cols we don't need from both tables\n",
    "- merges the two tables on the patient id\n",
    "- then saves the positive patients as a csv without the label and patient id\n",
    "- and saves the lookback of the negatives as a single column"
   ]
  },
  {
   "cell_type": "code",
   "execution_count": 1,
   "metadata": {
    "collapsed": true
   },
   "outputs": [],
   "source": [
    "import pandas as pd"
   ]
  },
  {
   "cell_type": "code",
   "execution_count": 28,
   "metadata": {
    "collapsed": true
   },
   "outputs": [],
   "source": [
    "freqs = pd.read_csv(\"data/freqs.csv\")\n",
    "date_diffs = pd.read_csv(\"data/date_diffs.csv\", parse_dates=[\"index_date\", \"lookback_date\"])"
   ]
  },
  {
   "cell_type": "code",
   "execution_count": 30,
   "metadata": {
    "collapsed": false
   },
   "outputs": [],
   "source": [
    "lookback_days = (date_diffs.index_date - date_diffs.lookback_date).astype('timedelta64[D]') \n",
    "freqs.insert(1, \"LOOKBACK\", lookback_days)"
   ]
  },
  {
   "cell_type": "code",
   "execution_count": 31,
   "metadata": {
    "collapsed": false
   },
   "outputs": [],
   "source": [
    "date_diffs.drop([\"test_patient_id\", \"index_date\", \"lookback_date\", \"label\"], axis=1, inplace=True)\n",
    "freqs.drop([\"test_patient_id\", \"index_date\", \"lookback_date\"], axis=1, inplace=True)"
   ]
  },
  {
   "cell_type": "code",
   "execution_count": 32,
   "metadata": {
    "collapsed": false,
    "scrolled": true
   },
   "outputs": [],
   "source": [
    "data = freqs.merge(date_diffs, on=\"PATIENT_ID\", how=\"inner\")"
   ]
  },
  {
   "cell_type": "code",
   "execution_count": 44,
   "metadata": {
    "collapsed": false
   },
   "outputs": [
    {
     "name": "stderr",
     "output_type": "stream",
     "text": [
      "C:\\ProgramData\\Anaconda3\\lib\\site-packages\\ipykernel\\__main__.py:2: SettingWithCopyWarning: \n",
      "A value is trying to be set on a copy of a slice from a DataFrame\n",
      "\n",
      "See the caveats in the documentation: http://pandas.pydata.org/pandas-docs/stable/indexing.html#indexing-view-versus-copy\n",
      "  from ipykernel import kernelapp as app\n"
     ]
    }
   ],
   "source": [
    "pos = data[data.label == 1]\n",
    "pos.drop([\"PATIENT_ID\", \"label\"], axis=1, inplace=True)\n",
    "pos.to_csv(\"data/pos_data.csv\", index=None)"
   ]
  },
  {
   "cell_type": "code",
   "execution_count": 40,
   "metadata": {
    "collapsed": false
   },
   "outputs": [],
   "source": [
    "neg_lookback = data.loc[data.label == 0, \"LOOKBACK\"]"
   ]
  },
  {
   "cell_type": "code",
   "execution_count": 43,
   "metadata": {
    "collapsed": false
   },
   "outputs": [],
   "source": [
    "neg_lookback.to_csv(\"data/neg_lookback.csv\", index=None)"
   ]
  }
 ],
 "metadata": {
  "kernelspec": {
   "display_name": "Python 3",
   "language": "python",
   "name": "python3"
  },
  "language_info": {
   "codemirror_mode": {
    "name": "ipython",
    "version": 3
   },
   "file_extension": ".py",
   "mimetype": "text/x-python",
   "name": "python",
   "nbconvert_exporter": "python",
   "pygments_lexer": "ipython3",
   "version": "3.6.0"
  }
 },
 "nbformat": 4,
 "nbformat_minor": 2
}
